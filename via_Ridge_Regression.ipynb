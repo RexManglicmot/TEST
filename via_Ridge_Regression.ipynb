{
  "nbformat": 4,
  "nbformat_minor": 0,
  "metadata": {
    "colab": {
      "provenance": [],
      "authorship_tag": "ABX9TyNCfigzHJoAdjDGs4uISHRT",
      "include_colab_link": true
    },
    "kernelspec": {
      "name": "python3",
      "display_name": "Python 3"
    },
    "language_info": {
      "name": "python"
    }
  },
  "cells": [
    {
      "cell_type": "markdown",
      "metadata": {
        "id": "view-in-github",
        "colab_type": "text"
      },
      "source": [
        "<a href=\"https://colab.research.google.com/github/RexManglicmot/TEST/blob/main/via_Ridge_Regression.ipynb\" target=\"_parent\"><img src=\"https://colab.research.google.com/assets/colab-badge.svg\" alt=\"Open In Colab\"/></a>"
      ]
    },
    {
      "cell_type": "markdown",
      "source": [
        "## Status: Continuing Working Document\n",
        "\n",
        "Hi! My name is Rex, and I'm working on building my data science skills. I would love to receive any feedback on the work below. Any mistakes or misinterpretations of the data are my own. \n",
        "\n",
        "Things Still Need To Do:\n",
        "\n",
        "* Flush out Regularization and Ridge Regression concepts"
      ],
      "metadata": {
        "id": "OeyBpCVOYg66"
      }
    },
    {
      "cell_type": "markdown",
      "source": [
        "## Introduction\n"
      ],
      "metadata": {
        "id": "98sD2VeFXaOK"
      }
    },
    {
      "cell_type": "markdown",
      "source": [
        "## Loading the Libraries\n",
        "\n"
      ],
      "metadata": {
        "id": "iDz_OvbNXkrd"
      }
    },
    {
      "cell_type": "code",
      "source": [
        "# Load packages\n",
        "import numpy as np\n",
        "import pandas as pd\n"
      ],
      "metadata": {
        "id": "I_N_lhVVYXtr"
      },
      "execution_count": null,
      "outputs": []
    },
    {
      "cell_type": "markdown",
      "source": [
        "## Loading the Data"
      ],
      "metadata": {
        "id": "D_NCcbnyYuMc"
      }
    },
    {
      "cell_type": "markdown",
      "source": [
        "## Cleaning the Data"
      ],
      "metadata": {
        "id": "E7AJC8IsYp9y"
      }
    },
    {
      "cell_type": "markdown",
      "source": [
        "## Exploratory Data Analysis"
      ],
      "metadata": {
        "id": "LRvGojc4YsON"
      }
    },
    {
      "cell_type": "markdown",
      "source": [
        "## Concept: Regularization\n",
        "\n",
        "Regularization is a form of regression that shrinks the coefficient estimates in addition to the magnitude of the error term are constrainted to zero. "
      ],
      "metadata": {
        "id": "pBoHgwuKXxKn"
      }
    },
    {
      "cell_type": "markdown",
      "source": [
        "## Model: Ridge Regression"
      ],
      "metadata": {
        "id": "Lzli_Ur2X950"
      }
    },
    {
      "cell_type": "markdown",
      "source": [
        "## Limitations"
      ],
      "metadata": {
        "id": "vMqGhLUVY5gq"
      }
    },
    {
      "cell_type": "markdown",
      "source": [
        "## Conclusion"
      ],
      "metadata": {
        "id": "HWBUz0BbY7G-"
      }
    },
    {
      "cell_type": "markdown",
      "source": [
        "## Inspiration for this project"
      ],
      "metadata": {
        "id": "lZr1VJoaY8xm"
      }
    }
  ]
}